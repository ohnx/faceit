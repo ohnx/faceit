{
 "cells": [
  {
   "cell_type": "markdown",
   "metadata": {},
   "source": [
    "# FaceIt demo\n",
    "\n",
    "## Setup\n",
    "\n",
    "Make sure you have `git submodule init` and `git submodule update` to download faceswap as well.\n",
    "\n",
    "Then, run setup for faceswap by going `cd faceswap; python setup.py; cd ..`.\n",
    "\n",
    "Finally, run setup for FaceIt by running `pip install -r requirements.txt`.\n",
    "\n",
    "## This demo\n",
    "\n",
    "This demo does a Jimmy Fallon -> Donald Trump Sr.'s faceswap."
   ]
  },
  {
   "cell_type": "code",
   "execution_count": null,
   "metadata": {},
   "outputs": [],
   "source": [
    "# import faceit\n",
    "from faceit import FaceIt"
   ]
  },
  {
   "cell_type": "code",
   "execution_count": null,
   "metadata": {},
   "outputs": [],
   "source": [
    "# custom data directories (optional)\n",
    "FaceIt.VIDEO_PATH = '/home/nanaimo/data/faceit-demo/videos'\n",
    "# note - please copy over the faces in the data/persons folder (required to filter the faces in the source videos)\n",
    "FaceIt.PERSON_PATH = '/home/nanaimo/data/faceit-demo/persons'\n",
    "FaceIt.PROCESSED_PATH = '/home/nanaimo/data/faceit-demo/processed'\n",
    "FaceIt.OUTPUT_PATH = '/home/nanaimo/data/faceit-demo/output'\n",
    "FaceIt.MODEL_PATH = '/home/nanaimo/data/faceit-demo/models'"
   ]
  },
  {
   "cell_type": "code",
   "execution_count": null,
   "metadata": {},
   "outputs": [],
   "source": [
    "# create model with params\n",
    "ftt = FaceIt('fallon_to_trump', 'fallon', 'trump')"
   ]
  },
  {
   "cell_type": "code",
   "execution_count": null,
   "metadata": {},
   "outputs": [],
   "source": [
    "# add videos to the model (fallon)\n",
    "ftt.add_video('fallon', 'fallon_mom.mp4', 'https://www.youtube.com/watch?v=gjXrm2Q-te4')\n",
    "ftt.add_video('fallon', 'fallon_charlottesville.mp4', 'https://www.youtube.com/watch?v=E9TJsw67OmE')\n",
    "ftt.add_video('fallon', 'fallon_dakota.mp4', 'https://www.youtube.com/watch?v=tPtMP_NAMz0')\n",
    "ftt.add_video('fallon', 'fallon_single.mp4', 'https://www.youtube.com/watch?v=xfFVuXN0FSI')\n",
    "ftt.add_video('fallon', 'fallon_sesamestreet.mp4', 'https://www.youtube.com/watch?v=SHogg7pJI_M')\n",
    "ftt.add_video('fallon', 'fallon_emmastone.mp4', 'https://www.youtube.com/watch?v=bLBSoC_2IY8')\n",
    "ftt.add_video('fallon', 'fallon_xfinity.mp4', 'https://www.youtube.com/watch?v=7JwBBZRLgkM')\n",
    "ftt.add_video('fallon', 'fallon_bank.mp4', 'https://www.youtube.com/watch?v=q-0hmYHWVgE')"
   ]
  },
  {
   "cell_type": "code",
   "execution_count": null,
   "metadata": {},
   "outputs": [],
   "source": [
    "# add videos to the model (trump)\n",
    "ftt.add_video('trump', 'trump_econ.mp4', 'https://www.youtube.com/watch?v=IVeU9Ze-biA')\n",
    "ftt.add_video('trump', 'trump_india.mp4', 'https://www.youtube.com/watch?v=RkEW0RYn-Hw')\n",
    "ftt.add_video('trump', 'trump_cnn1.mp4', 'https://www.youtube.com/watch?v=luWFI3b18N8')\n",
    "ftt.add_video('trump', 'trump_cnn2.mp4', 'https://www.youtube.com/watch?v=pLMlCMbhNdk')\n",
    "ftt.add_video('trump', 'trump_cnn3.mp4', 'https://www.youtube.com/watch?v=f0UB06v7yLY')\n",
    "ftt.add_video('trump', 'trump_cnn4.mp4', 'https://www.youtube.com/watch?v=yvlgt-7efdw')\n",
    "ftt.add_video('trump', 'trump_bbc.mp4', 'https://www.youtube.com/watch?v=5kweSUKTV-Q')\n",
    "ftt.add_video('trump', 'trump_jerusalem.mp4', 'https://www.youtube.com/watch?v=CpXh9IacUyw')\n",
    "ftt.add_video('trump', 'trump_interview.mp4', 'https://www.youtube.com/watch?v=gQFXYEIpdhU')"
   ]
  },
  {
   "cell_type": "code",
   "execution_count": null,
   "metadata": {},
   "outputs": [],
   "source": [
    "# preprocess\n",
    "FaceIt.add_model(ftt)\n",
    "ftt.preprocess()"
   ]
  },
  {
   "cell_type": "code",
   "execution_count": null,
   "metadata": {},
   "outputs": [],
   "source": [
    "# train (may take a while...)\n",
    "ftt.train()"
   ]
  },
  {
   "cell_type": "code",
   "execution_count": null,
   "metadata": {},
   "outputs": [],
   "source": []
  }
 ],
 "metadata": {
  "kernelspec": {
   "display_name": "Tensorflow",
   "language": "python",
   "name": "tensorflow"
  },
  "language_info": {
   "codemirror_mode": {
    "name": "ipython",
    "version": 3
   },
   "file_extension": ".py",
   "mimetype": "text/x-python",
   "name": "python",
   "nbconvert_exporter": "python",
   "pygments_lexer": "ipython3",
   "version": "3.5.2"
  },
  "toc": {
   "nav_menu": {},
   "number_sections": true,
   "sideBar": true,
   "skip_h1_title": false,
   "title_cell": "Table of Contents",
   "title_sidebar": "Contents",
   "toc_cell": false,
   "toc_position": {},
   "toc_section_display": true,
   "toc_window_display": false
  }
 },
 "nbformat": 4,
 "nbformat_minor": 2
}
